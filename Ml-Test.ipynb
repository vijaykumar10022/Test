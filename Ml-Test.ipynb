{
 "cells": [
  {
   "cell_type": "markdown",
   "metadata": {},
   "source": [
    "1).Answer"
   ]
  },
  {
   "cell_type": "code",
   "execution_count": 19,
   "metadata": {},
   "outputs": [
    {
     "name": "stdout",
     "output_type": "stream",
     "text": [
      "a    1\n",
      "b    2\n",
      "c    3\n",
      "d    4\n",
      "e    5\n",
      "dtype: int64\n",
      "v    NaN\n",
      "i    NaN\n",
      "j    NaN\n",
      "a    1.0\n",
      "y    NaN\n",
      "dtype: float64\n"
     ]
    }
   ],
   "source": [
    "import pandas as pd\n",
    "import numpy as np\n",
    "data = pd.Series(data = [1,2,3,4,5], index = list('abcde'))\n",
    "print(data)\n",
    "d_data= data.reindex(index =list('vijay'))\n",
    "print(d_data)"
   ]
  },
  {
   "cell_type": "markdown",
   "metadata": {},
   "source": [
    "2).Answer"
   ]
  },
  {
   "cell_type": "code",
   "execution_count": 24,
   "metadata": {},
   "outputs": [
    {
     "name": "stdout",
     "output_type": "stream",
     "text": [
      "Addition\n",
      " 0     7\n",
      "1    12\n",
      "2     6\n",
      "3     7\n",
      "4     8\n",
      "5    11\n",
      "6    13\n",
      "dtype: int64\n",
      "Subtration\n",
      " 0   -5\n",
      "1   -2\n",
      "2    0\n",
      "3    1\n",
      "4    4\n",
      "5    3\n",
      "6    3\n",
      "dtype: int64\n",
      "Multiplication\n",
      " 0     6\n",
      "1    35\n",
      "2     9\n",
      "3    12\n",
      "4    12\n",
      "5    28\n",
      "6    40\n",
      "dtype: int64\n",
      "Division\n",
      " 0    0.166667\n",
      "1    0.714286\n",
      "2    1.000000\n",
      "3    1.333333\n",
      "4    3.000000\n",
      "5    1.750000\n",
      "6    1.600000\n",
      "dtype: float64\n"
     ]
    }
   ],
   "source": [
    "\n",
    "data1 = pd.Series([1,5,3,4,6,7,8])\n",
    "data2= pd.Series([6,7,3,3,2,4,5])\n",
    "print(\"Addition\\n\",data1+data2)\n",
    "print(\"Subtration\\n\",data1-data2)\n",
    "print(\"Multiplication\\n\",data1*data2)\n",
    "print(\"Division\\n\",data1/data2)\n"
   ]
  },
  {
   "cell_type": "markdown",
   "metadata": {},
   "source": [
    "3).Answer"
   ]
  },
  {
   "cell_type": "code",
   "execution_count": 25,
   "metadata": {},
   "outputs": [
    {
     "name": "stdout",
     "output_type": "stream",
     "text": [
      "0    1\n",
      "1    2\n",
      "2    3\n",
      "3    4\n",
      "4    5\n",
      "5    6\n",
      "dtype: int64\n",
      "<class 'pandas.core.series.Series'>\n",
      "[1, 2, 3, 4, 5, 6]\n",
      "<class 'list'>\n"
     ]
    }
   ],
   "source": [
    "data = pd.Series([1,2,3,4,5,6])\n",
    "print(data)\n",
    "print(type(data))\n",
    "print(data.tolist())\n",
    "print(type(data.tolist()))\n"
   ]
  },
  {
   "cell_type": "markdown",
   "metadata": {},
   "source": [
    "4).Answer"
   ]
  },
  {
   "cell_type": "code",
   "execution_count": 27,
   "metadata": {},
   "outputs": [
    {
     "name": "stdout",
     "output_type": "stream",
     "text": [
      "    name  score  attempts qualify\n",
      "d  James    NaN         3      no\n",
      "h  Laura    NaN         1      no\n"
     ]
    }
   ],
   "source": [
    "exam_data  = {'name': ['Anastasia', 'Dima', 'Katherine', 'James', 'Emily', 'Michael', 'Matthew', 'Laura', 'Kevin', 'Jonas'],\n",
    "        'score': [12.5, 9, 16.5, np.nan, 9, 20, 14.5, np.nan, 8, 19],\n",
    "        'attempts': [1, 3, 2, 3, 2, 3, 1, 1, 2, 1],\n",
    "        'qualify': ['yes', 'no', 'yes', 'no', 'no', 'yes', 'yes', 'no', 'no', 'yes']}\n",
    "labels = ['a', 'b', 'c', 'd', 'e', 'f', 'g', 'h', 'i', 'j']\n",
    "\n",
    "data= pd.DataFrame(exam_data , index=labels)\n",
    "print(data[data['score'].isnull()])\n"
   ]
  },
  {
   "cell_type": "markdown",
   "metadata": {},
   "source": [
    "5).Answer"
   ]
  },
  {
   "cell_type": "code",
   "execution_count": 29,
   "metadata": {},
   "outputs": [
    {
     "name": "stdout",
     "output_type": "stream",
     "text": [
      "2019-12-07 00:00:00\n"
     ]
    }
   ],
   "source": [
    "from datetime import date\n",
    "date = pd.to_datetime(str(date.today()), format='%Y-%m-%d')\n",
    "print(date)"
   ]
  },
  {
   "cell_type": "markdown",
   "metadata": {},
   "source": [
    "6).Answer"
   ]
  },
  {
   "cell_type": "code",
   "execution_count": null,
   "metadata": {},
   "outputs": [],
   "source": [
    "df = pd.read_csv('https://raw.githubusercontent.com/vijaykumar10022/ML-IIIT/master/titanic.csv')\n",
    "result = pd.pivot_table(df,'values=None', 'index=None', 'columns=None', \"aggfunc='mean'\", 'fill_value=None', 'margins=False', 'dropna=True', \"margins_name='All'\")\n",
    "print(result)\n"
   ]
  },
  {
   "cell_type": "markdown",
   "metadata": {},
   "source": [
    "7)Answer"
   ]
  },
  {
   "cell_type": "code",
   "execution_count": 34,
   "metadata": {},
   "outputs": [
    {
     "name": "stdout",
     "output_type": "stream",
     "text": [
      "[[ 2  3  4]\n",
      " [ 5  6  7]\n",
      " [ 8  9 10]]\n"
     ]
    }
   ],
   "source": [
    "x =  np.arange(2, 11).reshape(3,3)\n",
    "print(x)"
   ]
  },
  {
   "cell_type": "markdown",
   "metadata": {},
   "source": [
    "8).Answer"
   ]
  },
  {
   "cell_type": "code",
   "execution_count": 40,
   "metadata": {},
   "outputs": [
    {
     "name": "stdout",
     "output_type": "stream",
     "text": [
      "[1 2 4 5 2 1 5 4]\n",
      "[1 2 4 5 2 1 5 4]\n"
     ]
    }
   ],
   "source": [
    "data = np.array( [ (1,2,4,5),(2,1,5,4) ] )\n",
    "print(data.flatten())\n",
    "print(data.ravel())"
   ]
  },
  {
   "cell_type": "markdown",
   "metadata": {},
   "source": [
    "9)>Answer"
   ]
  },
  {
   "cell_type": "code",
   "execution_count": 47,
   "metadata": {},
   "outputs": [
    {
     "name": "stdout",
     "output_type": "stream",
     "text": [
      "<bound method DataFrame.max of    0  1   2\n",
      "0  2  3   4\n",
      "1  5  6   7\n",
      "2  8  9  10>\n"
     ]
    }
   ],
   "source": [
    "x =  np.arange(2, 11).reshape(3,3)\n",
    "data=pd.DataFrame(x)\n",
    "print(data.max)"
   ]
  },
  {
   "cell_type": "markdown",
   "metadata": {},
   "source": [
    "10).Answer"
   ]
  },
  {
   "cell_type": "code",
   "execution_count": 48,
   "metadata": {},
   "outputs": [
    {
     "name": "stdout",
     "output_type": "stream",
     "text": [
      "[[1 2 3]\n",
      " [4 5 6]\n",
      " [7 8 9]]\n",
      "[1 2 3 4 5 6 7 8 9]\n",
      "[[1 2 3]\n",
      " [4 5 6]\n",
      " [7 8 9]]\n"
     ]
    }
   ],
   "source": [
    "data =np.arange(1, 10).reshape(3,3)\n",
    "print(data)\n",
    "print(np.hstack(data))\n",
    "print(np.vstack(data))"
   ]
  },
  {
   "cell_type": "code",
   "execution_count": null,
   "metadata": {},
   "outputs": [],
   "source": []
  }
 ],
 "metadata": {
  "kernelspec": {
   "display_name": "Python 3",
   "language": "python",
   "name": "python3"
  },
  "language_info": {
   "codemirror_mode": {
    "name": "ipython",
    "version": 3
   },
   "file_extension": ".py",
   "mimetype": "text/x-python",
   "name": "python",
   "nbconvert_exporter": "python",
   "pygments_lexer": "ipython3",
   "version": "3.7.1"
  }
 },
 "nbformat": 4,
 "nbformat_minor": 2
}
